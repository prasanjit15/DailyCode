{
 "cells": [
  {
   "cell_type": "markdown",
   "metadata": {
    "colab_type": "text",
    "id": "TWrdW148R9kP"
   },
   "source": [
    "# Cloud AI Platform + What-if Tool: end-to-end XGBoost example\n",
    "\n",
    "This notebook shows how to: \n",
    "* Build a binary classification model with XGBoost trained on a [mortgage dataset](https://www.ffiec.gov/hmda/hmdaflat.htm)\n",
    "* Deploy the model to [Cloud AI Platform](https://cloud.google.com/ai-platform/)\n",
    "* Use the [What-if Tool](https://pair-code.github.io/what-if-tool/) on your deployed model\n"
   ]
  },
  {
   "cell_type": "code",
   "execution_count": null,
   "metadata": {
    "colab": {},
    "colab_type": "code",
    "id": "hSFHu19Rtvbt"
   },
   "outputs": [],
   "source": [
    "#You'll need to install XGBoost on the TF instance\n",
    "!pip3 install xgboost==0.90 witwidget --user --quiet"
   ]
  },
  {
   "cell_type": "markdown",
   "metadata": {},
   "source": [
    "**After doing a pip install, restart your kernel by selecting kernel from the menu and clicking Restart Kernel before proceeding further**"
   ]
  },
  {
   "cell_type": "code",
   "execution_count": 1,
   "metadata": {
    "colab": {},
    "colab_type": "code",
    "id": "CosDxuLy7M4Q"
   },
   "outputs": [],
   "source": [
    "import pandas as pd\n",
    "import xgboost as xgb\n",
    "import numpy as np\n",
    "import collections\n",
    "import witwidget\n",
    "\n",
    "from sklearn.model_selection import train_test_split\n",
    "from sklearn.metrics import accuracy_score, confusion_matrix\n",
    "from sklearn.utils import shuffle\n",
    "from witwidget.notebook.visualization import WitWidget, WitConfigBuilder"
   ]
  },
  {
   "cell_type": "markdown",
   "metadata": {
    "colab_type": "text",
    "id": "bFIxtguO1In_"
   },
   "source": [
    "## Download and pre-process data\n",
    "\n",
    "In this section we'll:\n",
    "* Download a subset of the mortgage dataset from Google Cloud Storage\n",
    "* Because XGBoost requires all columns to be numerical, we'll convert all categorical columns to dummy columns (0 or 1 values for each possible category value)\n",
    "* Note that we've already done some pre-processing on the original dataset to convert value codes to strings: for example, an agency code of `1` becomes `Office of the Comptroller of the Currency (OCC)`"
   ]
  },
  {
   "cell_type": "code",
   "execution_count": 2,
   "metadata": {
    "colab": {},
    "colab_type": "code",
    "id": "9BngZjdsO6Mr"
   },
   "outputs": [
    {
     "name": "stdout",
     "output_type": "stream",
     "text": [
      "Copying gs://mortgage_dataset_files/mortgage-small.csv...\n",
      "| [1 files][330.8 MiB/330.8 MiB]                                                \n",
      "Operation completed over 1 objects/330.8 MiB.                                    \n"
     ]
    }
   ],
   "source": [
    "# Use a small subset of the data since the original dataset is too big for Colab (2.5GB)\n",
    "# Data source: https://www.ffiec.gov/hmda/hmdaflat.htm\n",
    "!gsutil cp gs://mortgage_dataset_files/mortgage-small.csv ."
   ]
  },
  {
   "cell_type": "code",
   "execution_count": 3,
   "metadata": {
    "colab": {},
    "colab_type": "code",
    "id": "rou3YAIFhQCK"
   },
   "outputs": [],
   "source": [
    "# Set column dtypes for Pandas\n",
    "COLUMN_NAMES = collections.OrderedDict({\n",
    "  'as_of_year': np.int16,\n",
    "  'agency_code': 'category',\n",
    "  'loan_type': 'category',\n",
    "  'property_type': 'category',\n",
    "  'loan_purpose': 'category',\n",
    "  'occupancy': np.int8,\n",
    "  'loan_amt_thousands': np.float64,\n",
    "  'preapproval': 'category',\n",
    "  'county_code': np.float64,\n",
    "  'applicant_income_thousands': np.float64,\n",
    "  'purchaser_type': 'category',\n",
    "  'hoepa_status': 'category',\n",
    "  'lien_status': 'category',\n",
    "  'population': np.float64,\n",
    "  'ffiec_median_fam_income': np.float64,\n",
    "  'tract_to_msa_income_pct': np.float64,\n",
    "  'num_owner_occupied_units': np.float64,\n",
    "  'num_1_to_4_family_units': np.float64,\n",
    "  'approved': np.int8\n",
    "})"
   ]
  },
  {
   "cell_type": "code",
   "execution_count": 4,
   "metadata": {
    "colab": {},
    "colab_type": "code",
    "id": "18xiylX4_EPO"
   },
   "outputs": [
    {
     "data": {
      "text/html": [
       "<div>\n",
       "<style scoped>\n",
       "    .dataframe tbody tr th:only-of-type {\n",
       "        vertical-align: middle;\n",
       "    }\n",
       "\n",
       "    .dataframe tbody tr th {\n",
       "        vertical-align: top;\n",
       "    }\n",
       "\n",
       "    .dataframe thead th {\n",
       "        text-align: right;\n",
       "    }\n",
       "</style>\n",
       "<table border=\"1\" class=\"dataframe\">\n",
       "  <thead>\n",
       "    <tr style=\"text-align: right;\">\n",
       "      <th></th>\n",
       "      <th>as_of_year</th>\n",
       "      <th>agency_code</th>\n",
       "      <th>loan_type</th>\n",
       "      <th>property_type</th>\n",
       "      <th>loan_purpose</th>\n",
       "      <th>occupancy</th>\n",
       "      <th>loan_amt_thousands</th>\n",
       "      <th>preapproval</th>\n",
       "      <th>county_code</th>\n",
       "      <th>applicant_income_thousands</th>\n",
       "      <th>purchaser_type</th>\n",
       "      <th>hoepa_status</th>\n",
       "      <th>lien_status</th>\n",
       "      <th>population</th>\n",
       "      <th>ffiec_median_fam_income</th>\n",
       "      <th>tract_to_msa_income_pct</th>\n",
       "      <th>num_owner_occupied_units</th>\n",
       "      <th>num_1_to_4_family_units</th>\n",
       "      <th>approved</th>\n",
       "    </tr>\n",
       "  </thead>\n",
       "  <tbody>\n",
       "    <tr>\n",
       "      <th>310650</th>\n",
       "      <td>2016</td>\n",
       "      <td>Consumer Financial Protection Bureau (CFPB)</td>\n",
       "      <td>Conventional (any loan other than FHA, VA, FSA...</td>\n",
       "      <td>One to four-family (other than manufactured ho...</td>\n",
       "      <td>Refinancing</td>\n",
       "      <td>1</td>\n",
       "      <td>110.0</td>\n",
       "      <td>Not applicable</td>\n",
       "      <td>119.0</td>\n",
       "      <td>55.0</td>\n",
       "      <td>Freddie Mac (FHLMC)</td>\n",
       "      <td>Not a HOEPA loan</td>\n",
       "      <td>Secured by a first lien</td>\n",
       "      <td>5930.0</td>\n",
       "      <td>64100.0</td>\n",
       "      <td>98.81</td>\n",
       "      <td>1305.0</td>\n",
       "      <td>1631.0</td>\n",
       "      <td>1</td>\n",
       "    </tr>\n",
       "    <tr>\n",
       "      <th>630129</th>\n",
       "      <td>2016</td>\n",
       "      <td>Department of Housing and Urban Development (HUD)</td>\n",
       "      <td>Conventional (any loan other than FHA, VA, FSA...</td>\n",
       "      <td>One to four-family (other than manufactured ho...</td>\n",
       "      <td>Home purchase</td>\n",
       "      <td>1</td>\n",
       "      <td>480.0</td>\n",
       "      <td>Not applicable</td>\n",
       "      <td>33.0</td>\n",
       "      <td>270.0</td>\n",
       "      <td>Loan was not originated or was not sold in cal...</td>\n",
       "      <td>Not a HOEPA loan</td>\n",
       "      <td>Secured by a first lien</td>\n",
       "      <td>4791.0</td>\n",
       "      <td>90300.0</td>\n",
       "      <td>144.06</td>\n",
       "      <td>1420.0</td>\n",
       "      <td>1450.0</td>\n",
       "      <td>0</td>\n",
       "    </tr>\n",
       "    <tr>\n",
       "      <th>715484</th>\n",
       "      <td>2016</td>\n",
       "      <td>Federal Deposit Insurance Corporation (FDIC)</td>\n",
       "      <td>Conventional (any loan other than FHA, VA, FSA...</td>\n",
       "      <td>One to four-family (other than manufactured ho...</td>\n",
       "      <td>Refinancing</td>\n",
       "      <td>2</td>\n",
       "      <td>240.0</td>\n",
       "      <td>Not applicable</td>\n",
       "      <td>59.0</td>\n",
       "      <td>96.0</td>\n",
       "      <td>Commercial bank, savings bank or savings assoc...</td>\n",
       "      <td>Not a HOEPA loan</td>\n",
       "      <td>Secured by a first lien</td>\n",
       "      <td>3439.0</td>\n",
       "      <td>105700.0</td>\n",
       "      <td>104.62</td>\n",
       "      <td>853.0</td>\n",
       "      <td>1076.0</td>\n",
       "      <td>1</td>\n",
       "    </tr>\n",
       "    <tr>\n",
       "      <th>887708</th>\n",
       "      <td>2016</td>\n",
       "      <td>Office of the Comptroller of the Currency (OCC)</td>\n",
       "      <td>Conventional (any loan other than FHA, VA, FSA...</td>\n",
       "      <td>One to four-family (other than manufactured ho...</td>\n",
       "      <td>Refinancing</td>\n",
       "      <td>1</td>\n",
       "      <td>76.0</td>\n",
       "      <td>Not applicable</td>\n",
       "      <td>65.0</td>\n",
       "      <td>85.0</td>\n",
       "      <td>Loan was not originated or was not sold in cal...</td>\n",
       "      <td>Not a HOEPA loan</td>\n",
       "      <td>Secured by a subordinate lien</td>\n",
       "      <td>3952.0</td>\n",
       "      <td>61300.0</td>\n",
       "      <td>90.93</td>\n",
       "      <td>1272.0</td>\n",
       "      <td>1666.0</td>\n",
       "      <td>1</td>\n",
       "    </tr>\n",
       "    <tr>\n",
       "      <th>719598</th>\n",
       "      <td>2016</td>\n",
       "      <td>National Credit Union Administration (NCUA)</td>\n",
       "      <td>Conventional (any loan other than FHA, VA, FSA...</td>\n",
       "      <td>One to four-family (other than manufactured ho...</td>\n",
       "      <td>Refinancing</td>\n",
       "      <td>1</td>\n",
       "      <td>100.0</td>\n",
       "      <td>Not applicable</td>\n",
       "      <td>127.0</td>\n",
       "      <td>70.0</td>\n",
       "      <td>Loan was not originated or was not sold in cal...</td>\n",
       "      <td>Not a HOEPA loan</td>\n",
       "      <td>Secured by a first lien</td>\n",
       "      <td>2422.0</td>\n",
       "      <td>46400.0</td>\n",
       "      <td>88.37</td>\n",
       "      <td>650.0</td>\n",
       "      <td>1006.0</td>\n",
       "      <td>1</td>\n",
       "    </tr>\n",
       "  </tbody>\n",
       "</table>\n",
       "</div>"
      ],
      "text/plain": [
       "        as_of_year                                        agency_code  \\\n",
       "310650        2016        Consumer Financial Protection Bureau (CFPB)   \n",
       "630129        2016  Department of Housing and Urban Development (HUD)   \n",
       "715484        2016       Federal Deposit Insurance Corporation (FDIC)   \n",
       "887708        2016    Office of the Comptroller of the Currency (OCC)   \n",
       "719598        2016        National Credit Union Administration (NCUA)   \n",
       "\n",
       "                                                loan_type  \\\n",
       "310650  Conventional (any loan other than FHA, VA, FSA...   \n",
       "630129  Conventional (any loan other than FHA, VA, FSA...   \n",
       "715484  Conventional (any loan other than FHA, VA, FSA...   \n",
       "887708  Conventional (any loan other than FHA, VA, FSA...   \n",
       "719598  Conventional (any loan other than FHA, VA, FSA...   \n",
       "\n",
       "                                            property_type   loan_purpose  \\\n",
       "310650  One to four-family (other than manufactured ho...    Refinancing   \n",
       "630129  One to four-family (other than manufactured ho...  Home purchase   \n",
       "715484  One to four-family (other than manufactured ho...    Refinancing   \n",
       "887708  One to four-family (other than manufactured ho...    Refinancing   \n",
       "719598  One to four-family (other than manufactured ho...    Refinancing   \n",
       "\n",
       "        occupancy  loan_amt_thousands     preapproval  county_code  \\\n",
       "310650          1               110.0  Not applicable        119.0   \n",
       "630129          1               480.0  Not applicable         33.0   \n",
       "715484          2               240.0  Not applicable         59.0   \n",
       "887708          1                76.0  Not applicable         65.0   \n",
       "719598          1               100.0  Not applicable        127.0   \n",
       "\n",
       "        applicant_income_thousands  \\\n",
       "310650                        55.0   \n",
       "630129                       270.0   \n",
       "715484                        96.0   \n",
       "887708                        85.0   \n",
       "719598                        70.0   \n",
       "\n",
       "                                           purchaser_type      hoepa_status  \\\n",
       "310650                                Freddie Mac (FHLMC)  Not a HOEPA loan   \n",
       "630129  Loan was not originated or was not sold in cal...  Not a HOEPA loan   \n",
       "715484  Commercial bank, savings bank or savings assoc...  Not a HOEPA loan   \n",
       "887708  Loan was not originated or was not sold in cal...  Not a HOEPA loan   \n",
       "719598  Loan was not originated or was not sold in cal...  Not a HOEPA loan   \n",
       "\n",
       "                          lien_status  population  ffiec_median_fam_income  \\\n",
       "310650        Secured by a first lien      5930.0                  64100.0   \n",
       "630129        Secured by a first lien      4791.0                  90300.0   \n",
       "715484        Secured by a first lien      3439.0                 105700.0   \n",
       "887708  Secured by a subordinate lien      3952.0                  61300.0   \n",
       "719598        Secured by a first lien      2422.0                  46400.0   \n",
       "\n",
       "        tract_to_msa_income_pct  num_owner_occupied_units  \\\n",
       "310650                    98.81                    1305.0   \n",
       "630129                   144.06                    1420.0   \n",
       "715484                   104.62                     853.0   \n",
       "887708                    90.93                    1272.0   \n",
       "719598                    88.37                     650.0   \n",
       "\n",
       "        num_1_to_4_family_units  approved  \n",
       "310650                   1631.0         1  \n",
       "630129                   1450.0         0  \n",
       "715484                   1076.0         1  \n",
       "887708                   1666.0         1  \n",
       "719598                   1006.0         1  "
      ]
     },
     "execution_count": 4,
     "metadata": {},
     "output_type": "execute_result"
    }
   ],
   "source": [
    "# Load data into Pandas\n",
    "data = pd.read_csv(\n",
    "  'mortgage-small.csv', \n",
    "  index_col=False,\n",
    "  dtype=COLUMN_NAMES\n",
    ")\n",
    "data = data.dropna()\n",
    "data = shuffle(data, random_state=2)\n",
    "data.head()"
   ]
  },
  {
   "cell_type": "code",
   "execution_count": 5,
   "metadata": {
    "colab": {},
    "colab_type": "code",
    "id": "xkt2L4Lh_buo"
   },
   "outputs": [
    {
     "name": "stdout",
     "output_type": "stream",
     "text": [
      "1    665389\n",
      "0    334610\n",
      "Name: approved, dtype: int64\n"
     ]
    }
   ],
   "source": [
    "# Label preprocessing\n",
    "labels = data['approved'].values\n",
    "\n",
    "# See the distribution of approved / denied classes (0: denied, 1: approved)\n",
    "print(data['approved'].value_counts())"
   ]
  },
  {
   "cell_type": "code",
   "execution_count": 6,
   "metadata": {
    "colab": {},
    "colab_type": "code",
    "id": "bER0GA7wgSHE"
   },
   "outputs": [],
   "source": [
    "data = data.drop(columns=['approved'])"
   ]
  },
  {
   "cell_type": "code",
   "execution_count": 7,
   "metadata": {
    "colab": {},
    "colab_type": "code",
    "id": "dkR8t9I2_fSm"
   },
   "outputs": [],
   "source": [
    "# Convert categorical columns to dummy columns\n",
    "dummy_columns = list(data.dtypes[data.dtypes == 'category'].index)\n",
    "data = pd.get_dummies(data, columns=dummy_columns)"
   ]
  },
  {
   "cell_type": "code",
   "execution_count": 8,
   "metadata": {
    "colab": {},
    "colab_type": "code",
    "id": "eQNpBaaiZU5r"
   },
   "outputs": [
    {
     "data": {
      "text/html": [
       "<div>\n",
       "<style scoped>\n",
       "    .dataframe tbody tr th:only-of-type {\n",
       "        vertical-align: middle;\n",
       "    }\n",
       "\n",
       "    .dataframe tbody tr th {\n",
       "        vertical-align: top;\n",
       "    }\n",
       "\n",
       "    .dataframe thead th {\n",
       "        text-align: right;\n",
       "    }\n",
       "</style>\n",
       "<table border=\"1\" class=\"dataframe\">\n",
       "  <thead>\n",
       "    <tr style=\"text-align: right;\">\n",
       "      <th></th>\n",
       "      <th>as_of_year</th>\n",
       "      <th>occupancy</th>\n",
       "      <th>loan_amt_thousands</th>\n",
       "      <th>county_code</th>\n",
       "      <th>applicant_income_thousands</th>\n",
       "      <th>population</th>\n",
       "      <th>ffiec_median_fam_income</th>\n",
       "      <th>tract_to_msa_income_pct</th>\n",
       "      <th>num_owner_occupied_units</th>\n",
       "      <th>num_1_to_4_family_units</th>\n",
       "      <th>...</th>\n",
       "      <th>purchaser_type_Life insurance company, credit union, mortgage bank, or finance company</th>\n",
       "      <th>purchaser_type_Loan was not originated or was not sold in calendar year covered by register</th>\n",
       "      <th>purchaser_type_Other type of purchaser</th>\n",
       "      <th>purchaser_type_Private securitization</th>\n",
       "      <th>hoepa_status_HOEPA loan</th>\n",
       "      <th>hoepa_status_Not a HOEPA loan</th>\n",
       "      <th>lien_status_Not applicable (purchased loans)</th>\n",
       "      <th>lien_status_Not secured by a lien</th>\n",
       "      <th>lien_status_Secured by a first lien</th>\n",
       "      <th>lien_status_Secured by a subordinate lien</th>\n",
       "    </tr>\n",
       "  </thead>\n",
       "  <tbody>\n",
       "    <tr>\n",
       "      <th>310650</th>\n",
       "      <td>2016</td>\n",
       "      <td>1</td>\n",
       "      <td>110.0</td>\n",
       "      <td>119.0</td>\n",
       "      <td>55.0</td>\n",
       "      <td>5930.0</td>\n",
       "      <td>64100.0</td>\n",
       "      <td>98.81</td>\n",
       "      <td>1305.0</td>\n",
       "      <td>1631.0</td>\n",
       "      <td>...</td>\n",
       "      <td>0</td>\n",
       "      <td>0</td>\n",
       "      <td>0</td>\n",
       "      <td>0</td>\n",
       "      <td>0</td>\n",
       "      <td>1</td>\n",
       "      <td>0</td>\n",
       "      <td>0</td>\n",
       "      <td>1</td>\n",
       "      <td>0</td>\n",
       "    </tr>\n",
       "    <tr>\n",
       "      <th>630129</th>\n",
       "      <td>2016</td>\n",
       "      <td>1</td>\n",
       "      <td>480.0</td>\n",
       "      <td>33.0</td>\n",
       "      <td>270.0</td>\n",
       "      <td>4791.0</td>\n",
       "      <td>90300.0</td>\n",
       "      <td>144.06</td>\n",
       "      <td>1420.0</td>\n",
       "      <td>1450.0</td>\n",
       "      <td>...</td>\n",
       "      <td>0</td>\n",
       "      <td>1</td>\n",
       "      <td>0</td>\n",
       "      <td>0</td>\n",
       "      <td>0</td>\n",
       "      <td>1</td>\n",
       "      <td>0</td>\n",
       "      <td>0</td>\n",
       "      <td>1</td>\n",
       "      <td>0</td>\n",
       "    </tr>\n",
       "    <tr>\n",
       "      <th>715484</th>\n",
       "      <td>2016</td>\n",
       "      <td>2</td>\n",
       "      <td>240.0</td>\n",
       "      <td>59.0</td>\n",
       "      <td>96.0</td>\n",
       "      <td>3439.0</td>\n",
       "      <td>105700.0</td>\n",
       "      <td>104.62</td>\n",
       "      <td>853.0</td>\n",
       "      <td>1076.0</td>\n",
       "      <td>...</td>\n",
       "      <td>0</td>\n",
       "      <td>0</td>\n",
       "      <td>0</td>\n",
       "      <td>0</td>\n",
       "      <td>0</td>\n",
       "      <td>1</td>\n",
       "      <td>0</td>\n",
       "      <td>0</td>\n",
       "      <td>1</td>\n",
       "      <td>0</td>\n",
       "    </tr>\n",
       "    <tr>\n",
       "      <th>887708</th>\n",
       "      <td>2016</td>\n",
       "      <td>1</td>\n",
       "      <td>76.0</td>\n",
       "      <td>65.0</td>\n",
       "      <td>85.0</td>\n",
       "      <td>3952.0</td>\n",
       "      <td>61300.0</td>\n",
       "      <td>90.93</td>\n",
       "      <td>1272.0</td>\n",
       "      <td>1666.0</td>\n",
       "      <td>...</td>\n",
       "      <td>0</td>\n",
       "      <td>1</td>\n",
       "      <td>0</td>\n",
       "      <td>0</td>\n",
       "      <td>0</td>\n",
       "      <td>1</td>\n",
       "      <td>0</td>\n",
       "      <td>0</td>\n",
       "      <td>0</td>\n",
       "      <td>1</td>\n",
       "    </tr>\n",
       "    <tr>\n",
       "      <th>719598</th>\n",
       "      <td>2016</td>\n",
       "      <td>1</td>\n",
       "      <td>100.0</td>\n",
       "      <td>127.0</td>\n",
       "      <td>70.0</td>\n",
       "      <td>2422.0</td>\n",
       "      <td>46400.0</td>\n",
       "      <td>88.37</td>\n",
       "      <td>650.0</td>\n",
       "      <td>1006.0</td>\n",
       "      <td>...</td>\n",
       "      <td>0</td>\n",
       "      <td>1</td>\n",
       "      <td>0</td>\n",
       "      <td>0</td>\n",
       "      <td>0</td>\n",
       "      <td>1</td>\n",
       "      <td>0</td>\n",
       "      <td>0</td>\n",
       "      <td>1</td>\n",
       "      <td>0</td>\n",
       "    </tr>\n",
       "  </tbody>\n",
       "</table>\n",
       "<p>5 rows × 44 columns</p>\n",
       "</div>"
      ],
      "text/plain": [
       "        as_of_year  occupancy  loan_amt_thousands  county_code  \\\n",
       "310650        2016          1               110.0        119.0   \n",
       "630129        2016          1               480.0         33.0   \n",
       "715484        2016          2               240.0         59.0   \n",
       "887708        2016          1                76.0         65.0   \n",
       "719598        2016          1               100.0        127.0   \n",
       "\n",
       "        applicant_income_thousands  population  ffiec_median_fam_income  \\\n",
       "310650                        55.0      5930.0                  64100.0   \n",
       "630129                       270.0      4791.0                  90300.0   \n",
       "715484                        96.0      3439.0                 105700.0   \n",
       "887708                        85.0      3952.0                  61300.0   \n",
       "719598                        70.0      2422.0                  46400.0   \n",
       "\n",
       "        tract_to_msa_income_pct  num_owner_occupied_units  \\\n",
       "310650                    98.81                    1305.0   \n",
       "630129                   144.06                    1420.0   \n",
       "715484                   104.62                     853.0   \n",
       "887708                    90.93                    1272.0   \n",
       "719598                    88.37                     650.0   \n",
       "\n",
       "        num_1_to_4_family_units  ...  \\\n",
       "310650                   1631.0  ...   \n",
       "630129                   1450.0  ...   \n",
       "715484                   1076.0  ...   \n",
       "887708                   1666.0  ...   \n",
       "719598                   1006.0  ...   \n",
       "\n",
       "        purchaser_type_Life insurance company, credit union, mortgage bank, or finance company  \\\n",
       "310650                                                  0                                        \n",
       "630129                                                  0                                        \n",
       "715484                                                  0                                        \n",
       "887708                                                  0                                        \n",
       "719598                                                  0                                        \n",
       "\n",
       "        purchaser_type_Loan was not originated or was not sold in calendar year covered by register  \\\n",
       "310650                                                  0                                             \n",
       "630129                                                  1                                             \n",
       "715484                                                  0                                             \n",
       "887708                                                  1                                             \n",
       "719598                                                  1                                             \n",
       "\n",
       "        purchaser_type_Other type of purchaser  \\\n",
       "310650                                       0   \n",
       "630129                                       0   \n",
       "715484                                       0   \n",
       "887708                                       0   \n",
       "719598                                       0   \n",
       "\n",
       "        purchaser_type_Private securitization  hoepa_status_HOEPA loan  \\\n",
       "310650                                      0                        0   \n",
       "630129                                      0                        0   \n",
       "715484                                      0                        0   \n",
       "887708                                      0                        0   \n",
       "719598                                      0                        0   \n",
       "\n",
       "        hoepa_status_Not a HOEPA loan  \\\n",
       "310650                              1   \n",
       "630129                              1   \n",
       "715484                              1   \n",
       "887708                              1   \n",
       "719598                              1   \n",
       "\n",
       "        lien_status_Not applicable (purchased loans)  \\\n",
       "310650                                             0   \n",
       "630129                                             0   \n",
       "715484                                             0   \n",
       "887708                                             0   \n",
       "719598                                             0   \n",
       "\n",
       "        lien_status_Not secured by a lien  \\\n",
       "310650                                  0   \n",
       "630129                                  0   \n",
       "715484                                  0   \n",
       "887708                                  0   \n",
       "719598                                  0   \n",
       "\n",
       "        lien_status_Secured by a first lien  \\\n",
       "310650                                    1   \n",
       "630129                                    1   \n",
       "715484                                    1   \n",
       "887708                                    0   \n",
       "719598                                    1   \n",
       "\n",
       "        lien_status_Secured by a subordinate lien  \n",
       "310650                                          0  \n",
       "630129                                          0  \n",
       "715484                                          0  \n",
       "887708                                          1  \n",
       "719598                                          0  \n",
       "\n",
       "[5 rows x 44 columns]"
      ]
     },
     "execution_count": 8,
     "metadata": {},
     "output_type": "execute_result"
    }
   ],
   "source": [
    "# Preview the data\n",
    "data.head()"
   ]
  },
  {
   "cell_type": "markdown",
   "metadata": {
    "colab_type": "text",
    "id": "Mpr23PcBAnM3"
   },
   "source": [
    "## Train the XGBoost model"
   ]
  },
  {
   "cell_type": "code",
   "execution_count": 9,
   "metadata": {
    "colab": {},
    "colab_type": "code",
    "id": "qdA3eC9v0tbN"
   },
   "outputs": [],
   "source": [
    "# Split the data into train / test sets\n",
    "x,y = data,labels\n",
    "x_train,x_test,y_train,y_test = train_test_split(x,y)"
   ]
  },
  {
   "cell_type": "code",
   "execution_count": null,
   "metadata": {
    "colab": {},
    "colab_type": "code",
    "id": "GOveA7JAAmr4"
   },
   "outputs": [],
   "source": [
    "# Train the model, this will take a few minutes to run\n",
    "bst = xgb.XGBClassifier(\n",
    "    objective='reg:logistic'\n",
    ")\n",
    "\n",
    "bst.fit(x_train, y_train)"
   ]
  },
  {
   "cell_type": "code",
   "execution_count": null,
   "metadata": {
    "colab": {},
    "colab_type": "code",
    "id": "0YNhqfWpBGLK"
   },
   "outputs": [],
   "source": [
    "# Get predictions on the test set and print the accuracy score\n",
    "y_pred = bst.predict(x_test)\n",
    "acc = accuracy_score(y_test, y_pred.round())\n",
    "print(acc, '\\n')"
   ]
  },
  {
   "cell_type": "code",
   "execution_count": null,
   "metadata": {
    "colab": {},
    "colab_type": "code",
    "id": "_UfHZJfFhcRO"
   },
   "outputs": [],
   "source": [
    "# Print a confusion matrix\n",
    "print('Confusion matrix:')\n",
    "cm = confusion_matrix(y_test, y_pred.round())\n",
    "cm = cm / cm.astype(np.float).sum(axis=1)\n",
    "print(cm)"
   ]
  },
  {
   "cell_type": "code",
   "execution_count": null,
   "metadata": {
    "colab": {},
    "colab_type": "code",
    "id": "VFAZoUs2vvxf"
   },
   "outputs": [],
   "source": [
    "# Save the model so we can deploy it\n",
    "bst.save_model('model.bst')"
   ]
  },
  {
   "cell_type": "markdown",
   "metadata": {
    "colab_type": "text",
    "id": "Lop--kefvU5a"
   },
   "source": [
    "## Deploy model to AI Platform\n",
    "\n",
    "Copy your saved model file to Cloud Storage and deploy the model to AI Platform. In order for this to work, you'll need the Cloud AI Platform Models API enabled. Update the values in the next cell with the info for your GCP project. Replace GCP_PROJECT with the value in the Qwiklabs lab page for GCP Project ID in the left pane, replace MODEL_BUCKET with gs:// with the value for BucketName appended, and replace MODEL_NAME with a name for your model."
   ]
  },
  {
   "cell_type": "code",
   "execution_count": null,
   "metadata": {
    "colab": {},
    "colab_type": "code",
    "id": "m454ISwGiP7Q"
   },
   "outputs": [],
   "source": [
    "GCP_PROJECT = 'qwiklabs-gcp-02-1a6acf22096f'\n",
    "MODEL_BUCKET = 'gs://qwiklabs-gcp-02-1a6acf22096f'\n",
    "MODEL_NAME = 'my-model' # You'll create this model below\n",
    "VERSION_NAME = 'v1'"
   ]
  },
  {
   "cell_type": "code",
   "execution_count": null,
   "metadata": {
    "colab": {},
    "colab_type": "code",
    "id": "f9VlzVTEvtiq"
   },
   "outputs": [],
   "source": [
    "# Copy your model file to Cloud Storage\n",
    "!gsutil cp ./model.bst $MODEL_BUCKET"
   ]
  },
  {
   "cell_type": "code",
   "execution_count": null,
   "metadata": {},
   "outputs": [],
   "source": [
    "# Configure gcloud to use your project\n",
    "!gcloud config set project $GCP_PROJECT"
   ]
  },
  {
   "cell_type": "code",
   "execution_count": null,
   "metadata": {
    "colab": {},
    "colab_type": "code",
    "id": "ew-GyuFHine9"
   },
   "outputs": [],
   "source": [
    "# Create a model\n",
    "!gcloud ai-platform models create $MODEL_NAME --regions us-central1"
   ]
  },
  {
   "cell_type": "code",
   "execution_count": null,
   "metadata": {
    "colab": {},
    "colab_type": "code",
    "id": "h14oBXAtvUYE"
   },
   "outputs": [],
   "source": [
    "# Create a version, this will take ~2 minutes to deploy\n",
    "!gcloud ai-platform versions create $VERSION_NAME \\\n",
    "--model=$MODEL_NAME \\\n",
    "--framework='XGBOOST' \\\n",
    "--runtime-version=1.15 \\\n",
    "--origin=$MODEL_BUCKET \\\n",
    "--staging-bucket=$MODEL_BUCKET \\\n",
    "--python-version=3.7 \\\n",
    "--project=$GCP_PROJECT"
   ]
  },
  {
   "cell_type": "markdown",
   "metadata": {
    "colab_type": "text",
    "id": "-8xNn8EhgUi7"
   },
   "source": [
    "## Using the What-if Tool to interpret your model\n",
    "Once your model has deployed, you're ready to connect it to the What-if Tool using the `WitWidget`."
   ]
  },
  {
   "cell_type": "code",
   "execution_count": null,
   "metadata": {
    "colab": {},
    "colab_type": "code",
    "id": "QzDqyqgzvV0E"
   },
   "outputs": [],
   "source": [
    "# Format a subset of the test data to send to the What-if Tool for visualization\n",
    "# Append ground truth label value to training data\n",
    "\n",
    "# This is the number of examples you want to display in the What-if Tool\n",
    "num_wit_examples = 500\n",
    "test_examples = np.hstack((x_test[:num_wit_examples].values,y_test[:num_wit_examples].reshape(-1,1)))"
   ]
  },
  {
   "cell_type": "code",
   "execution_count": null,
   "metadata": {
    "colab": {},
    "colab_type": "code",
    "id": "dqAbAmxkgW4p"
   },
   "outputs": [],
   "source": [
    "# Create a What-if Tool visualization, it may take a minute to load\n",
    "# See the cell below this for exploration ideas\n",
    "\n",
    "# This prediction adjustment function is needed as this xgboost model's\n",
    "# prediction returns just a score for the positive class of the binary\n",
    "# classification, whereas the What-If Tool expects a list of scores for each\n",
    "# class (in this case, both the negative class and the positive class).\n",
    "def adjust_prediction(pred):\n",
    "  return [1 - pred, pred]\n",
    "\n",
    "config_builder = (WitConfigBuilder(test_examples.tolist(), data.columns.tolist() + ['mortgage_status'])\n",
    "  .set_ai_platform_model(GCP_PROJECT, MODEL_NAME, VERSION_NAME, adjust_prediction=adjust_prediction)\n",
    "  .set_target_feature('mortgage_status')\n",
    "  .set_label_vocab(['denied', 'approved']))\n",
    "WitWidget(config_builder, height=800)"
   ]
  },
  {
   "cell_type": "markdown",
   "metadata": {
    "colab_type": "text",
    "id": "_B2BskDk55rk"
   },
   "source": [
    "## What-if Tool exploration ideas\n",
    "\n",
    "* **Individual data points**: the default graph shows all data points from the test set, colored by their ground truth label (approved or denied)\n",
    "  * Try selecting data points close to the middle and tweaking some of their feature values. Then run inference again to see if the model prediction changes\n",
    "  * Select a data point and then select the \"Show nearest counterfactual datapoint\" radio button. This will highlight a data point with feature values closest to your original one, but with the opposite prediction\n",
    "  \n",
    "* **Binning data**: create separate graphs for individual features\n",
    "  * From the \"Binning - X axis\" dropdown, try selecting one of the agency codes, for example \"Department of Housing and Urban Development (HUD)\". This will create 2 separate graphs, one for loan applications from the HUD (graph labeled 1), and one for all other agencies (graph labeled 0). This shows us that loans from this agency are more likely to be denied\n",
    "  \n",
    "* **Exploring overall performance**: Click on the \"Performance & Fairness\" tab to view overall performance statistics on the model's results on the provided dataset, including confusion matrices, PR curves, and ROC curves.\n",
    "   * Experiment with the threshold slider, raising and lowering the positive classification score the model needs to return before it decides to predict \"approved\" for the loan, and see how it changes accuracy, false positives, and false negatives.\n",
    "   * On the left side \"Slice by\" menu, select \"loan_purpose_Home purchase\". You'll now see performance on the two subsets of your data: the \"0\" slice shows when the loan is not for a home purchase, and the \"1\" slice is for when the loan is for a home purchase. Check out the accuracy, false postive, and false negative rate between the two slices to look for differences in performance. If you expand the rows to look at the confusion matrices, you can see that the model predicts \"approved\" more often for home purchase loans.\n",
    "   * You can use the optimization buttons on the left side to have the tool auto-select different positive classification thresholds for each slice in order to achieve different goals. If you select the \"Demographic parity\" button, then the two thresholds will be adjusted so that the model predicts \"approved\" for a similar percentage of applicants in both slices. What does this do to the accuracy, false positives and false negatives for each slice?\n"
   ]
  }
 ],
 "metadata": {
  "colab": {
   "collapsed_sections": [],
   "name": "What-If Tool with XGBoost Cloud AI Platform Model - end-to-end",
   "provenance": [],
   "version": "0.3.2"
  },
  "environment": {
   "name": "tf2-2-3-gpu.2-3.m58",
   "type": "gcloud",
   "uri": "gcr.io/deeplearning-platform-release/tf2-2-3-gpu.2-3:m58"
  },
  "kernelspec": {
   "display_name": "Python 3",
   "language": "python",
   "name": "python3"
  },
  "language_info": {
   "codemirror_mode": {
    "name": "ipython",
    "version": 3
   },
   "file_extension": ".py",
   "mimetype": "text/x-python",
   "name": "python",
   "nbconvert_exporter": "python",
   "pygments_lexer": "ipython3",
   "version": "3.7.8"
  }
 },
 "nbformat": 4,
 "nbformat_minor": 4
}
